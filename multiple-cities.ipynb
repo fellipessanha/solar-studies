{
 "cells": [
  {
   "cell_type": "code",
   "execution_count": 1,
   "metadata": {},
   "outputs": [],
   "source": [
    "import os\n",
    "import pandas as pd\n",
    "import csv"
   ]
  },
  {
   "cell_type": "code",
   "execution_count": 9,
   "metadata": {},
   "outputs": [
    {
     "data": {
      "text/plain": [
       "9460"
      ]
     },
     "execution_count": 9,
     "metadata": {},
     "output_type": "execute_result"
    }
   ],
   "source": [
    "file_dir = \"inmet-data\"\n",
    "years = [i.name for i in os.scandir(f\"{file_dir}\") if i.is_dir()]\n",
    "filenames = []\n",
    "for y in years:\n",
    "    filenames.extend(\n",
    "        [f\"{file_dir}/{y}/{f.name}\" for f in os.scandir(f\"{file_dir}/{y}\")]\n",
    "    )\n",
    "\n",
    "len(filenames)"
   ]
  },
  {
   "cell_type": "code",
   "execution_count": 23,
   "metadata": {},
   "outputs": [],
   "source": [
    "cols = [\n",
    "    \"region\",\n",
    "    \"state\",\n",
    "    \"station-name\",\n",
    "    \"code\",\n",
    "    \"lat\",\n",
    "    \"lon\",\n",
    "    \"height\",\n",
    "    \"starts_on\",\n",
    "    \"year\",\n",
    "]"
   ]
  },
  {
   "cell_type": "code",
   "execution_count": 28,
   "metadata": {},
   "outputs": [
    {
     "data": {
      "text/html": [
       "<div>\n",
       "<style scoped>\n",
       "    .dataframe tbody tr th:only-of-type {\n",
       "        vertical-align: middle;\n",
       "    }\n",
       "\n",
       "    .dataframe tbody tr th {\n",
       "        vertical-align: top;\n",
       "    }\n",
       "\n",
       "    .dataframe thead th {\n",
       "        text-align: right;\n",
       "    }\n",
       "</style>\n",
       "<table border=\"1\" class=\"dataframe\">\n",
       "  <thead>\n",
       "    <tr style=\"text-align: right;\">\n",
       "      <th></th>\n",
       "      <th>region</th>\n",
       "      <th>state</th>\n",
       "      <th>stationname</th>\n",
       "      <th>code</th>\n",
       "      <th>lat</th>\n",
       "      <th>lon</th>\n",
       "      <th>height</th>\n",
       "      <th>starts_on</th>\n",
       "      <th></th>\n",
       "    </tr>\n",
       "  </thead>\n",
       "  <tbody>\n",
       "  </tbody>\n",
       "</table>\n",
       "</div>"
      ],
      "text/plain": [
       "Empty DataFrame\n",
       "Columns: [region, state, stationname, code, lat, lon, height, starts_on, ]\n",
       "Index: []"
      ]
     },
     "execution_count": 28,
     "metadata": {},
     "output_type": "execute_result"
    }
   ],
   "source": [
    "df = pd.DataFrame(columns=cols)\n",
    "df"
   ]
  },
  {
   "cell_type": "code",
   "execution_count": 32,
   "metadata": {},
   "outputs": [
    {
     "name": "stdout",
     "output_type": "stream",
     "text": [
      "[['REGI?O:', 'CO\\n'], ['UF:', 'MS\\n'], ['ESTAC?O:', 'LAGUNA CARAPA\\n'], ['CODIGO (WMO):', 'S711\\n'], ['LATITUDE:', '-22,575389\\n'], ['LONGITUDE:', '-55,160333\\n'], ['ALTITUDE:', '499\\n'], ['DATA DE FUNDAC?O:', '12/04/18\\n']]\n",
      "[['REGI?O:', 'NE\\n'], ['UF:', 'BA\\n'], ['ESTAC?O:', 'AMARGOSA\\n'], ['CODIGO (WMO):', 'A434\\n'], ['LATITUDE:', '-13,009468\\n'], ['LONGITUDE:', '-39,616881\\n'], ['ALTITUDE:', '397,8\\n'], ['DATA DE FUNDAC?O:', '11/07/08\\n']]\n",
      "[['REGI?O:', 'N\\n'], ['UF:', 'AP\\n'], ['ESTAC?O:', 'MACAPA\\n'], ['CODIGO (WMO):', 'A249\\n'], ['LATITUDE:', ',03502\\n'], ['LONGITUDE:', '-51,088763\\n'], ['ALTITUDE:', '16,62\\n'], ['DATA DE FUNDAC?O:', '12/12/13\\n']]\n",
      "[['REGI?O:', 'SE\\n'], ['UF:', 'MG\\n'], ['ESTAC?O:', 'PATOS DE MINAS\\n'], ['CODIGO (WMO):', 'A562\\n'], ['LATITUDE:', '-18,520667\\n'], ['LONGITUDE:', '-46,440611\\n'], ['ALTITUDE:', '950\\n'], ['DATA DE FUNDAC?O:', '12/05/17\\n']]\n"
     ]
    }
   ],
   "source": [
    "for f in filenames[:4]:\n",
    "    file = open(f, \"r\", encoding=\"iso-8859-1\")\n",
    "    data = [f.split(\"/\")[1]]\n",
    "    for i in range(8):\n",
    "        line = file.readline()\n",
    "        data.append(line.split(\";\"))\n",
    "    print(data)"
   ]
  },
  {
   "cell_type": "code",
   "execution_count": null,
   "metadata": {},
   "outputs": [],
   "source": []
  }
 ],
 "metadata": {
  "kernelspec": {
   "display_name": "venv",
   "language": "python",
   "name": "python3"
  },
  "language_info": {
   "codemirror_mode": {
    "name": "ipython",
    "version": 3
   },
   "file_extension": ".py",
   "mimetype": "text/x-python",
   "name": "python",
   "nbconvert_exporter": "python",
   "pygments_lexer": "ipython3",
   "version": "3.10.12"
  }
 },
 "nbformat": 4,
 "nbformat_minor": 2
}
